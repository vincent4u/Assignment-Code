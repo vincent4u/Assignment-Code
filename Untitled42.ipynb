{
  "nbformat": 4,
  "nbformat_minor": 0,
  "metadata": {
    "colab": {
      "provenance": [],
      "authorship_tag": "ABX9TyM1O7c6KNLXfP5AT37aIDEi",
      "include_colab_link": true
    },
    "kernelspec": {
      "name": "python3",
      "display_name": "Python 3"
    },
    "language_info": {
      "name": "python"
    }
  },
  "cells": [
    {
      "cell_type": "markdown",
      "metadata": {
        "id": "view-in-github",
        "colab_type": "text"
      },
      "source": [
        "<a href=\"https://colab.research.google.com/github/vincent4u/Assignment-Code/blob/master/Untitled42.ipynb\" target=\"_parent\"><img src=\"https://colab.research.google.com/assets/colab-badge.svg\" alt=\"Open In Colab\"/></a>"
      ]
    },
    {
      "cell_type": "code",
      "execution_count": 11,
      "metadata": {
        "id": "iL6lblJR6hXx",
        "colab": {
          "base_uri": "https://localhost:8080/"
        },
        "outputId": "430a63d3-6465-42c5-a7d6-59e4f428eca6"
      },
      "outputs": [
        {
          "output_type": "stream",
          "name": "stdout",
          "text": [
            "Enter the text file name with .txt extension: exe5.txt\n",
            "Number of First Class students: 36\n",
            "Number of Second Class students: 42\n",
            "Number of Third Class students: 10\n",
            "Number of Failures: 12\n",
            "Registration numbers of students who failed: [2170785 2105013 2022465 1962016 2083148 2116305 1992226 2168985 1871813\n",
            " 1932827 2068293 2168103]\n"
          ]
        }
      ],
      "source": [
        "import numpy as np\n",
        "\n",
        "\n",
        "# Function to calculate grades based on rounded marks\n",
        "def Students_grades(course_work_score, exam_score, overall_score):\n",
        "    # check if student scored below 30 in coursework or exam\n",
        "    if course_work_score < 30 or exam_score < 30:\n",
        "        return \"Fail\"\n",
        "    # compute grade for students 30 and above\n",
        "    elif rounded_overall_score >= 70:\n",
        "        return \"First\"\n",
        "    elif 50 <= rounded_overall_score <= 69:\n",
        "        return \"Second\"\n",
        "    elif 40 <= rounded_overall_score <= 49:\n",
        "        return \"Third\"\n",
        "    else:\n",
        "        return \"Fail\"\n",
        "\n",
        "\n",
        "# Read the file name from user input\n",
        "filename = input(\"Enter the text file name with .txt extension: \")\n",
        "\n",
        "try:\n",
        "    with open(filename, 'r') as file:\n",
        "        lines = file.readlines()\n",
        "        num_studs, coursework_weight = map(int, lines[0].split())\n",
        "\n",
        "        # Initialize a 2D NumPy array for student marks\n",
        "        student_marks = np.array([[0, 0.0, 0.0, 0.0] for _ in range(num_studs)], dtype=np.float64)\n",
        "\n",
        "        # Store registration number, exam mark, coursework mark, and overall mark in the array\n",
        "        for x, line in enumerate(lines[1:]):\n",
        "            data = line.split()\n",
        "            reg_number = int(data[0])\n",
        "            exam_mark = float(data[1])\n",
        "            coursework_mark = float(data[2])\n",
        "            overall_mark = round((coursework_mark * coursework_weight / 100) + (exam_mark * (100 - coursework_weight) / 100))\n",
        "            student_marks[x] = [reg_number, exam_mark, coursework_mark, overall_mark]\n",
        "\n",
        "        # Define a named data type\n",
        "        student_type = np.dtype([('Registration_Number', np.int64),\n",
        "                                 ('Exam_Mark', np.float64),\n",
        "                                 ('Coursework_Mark', np.float64),\n",
        "                                 ('Overall_Mark', np.int64),\n",
        "                                 ('Grade', 'U10')])\n",
        "\n",
        "        # Create a 1D array using the named data type\n",
        "        student_data = np.array([(0, 0.0, 0.0, 0, '') for _ in range(num_studs)], dtype=student_type)\n",
        "\n",
        "        # Generate a tuple containing student data, calculate grades and store in the array\n",
        "        for x in range(num_studs):\n",
        "            reg_number, exam_mark, coursework_mark, overall_mark = student_marks[x]\n",
        "            rounded_exam_mark = round(exam_mark)\n",
        "            rounded_coursework_mark = round(coursework_mark)\n",
        "            rounded_overall_mark = round(overall_mark)\n",
        "            grade = compute_grade(rounded_coursework_mark, rounded_exam_mark, rounded_overall_mark)\n",
        "            student_data[x] = (reg_number, exam_mark, coursework_mark, overall_mark, grade)\n",
        "\n",
        "        # Sort the array by overall mark\n",
        "        sorted_student_data = np.sort(student_data, order='Overall_Mark')\n",
        "\n",
        "        # Creates a sorted data to an output txt file\n",
        "        with open('sorted_output.txt', 'w') as output_file:\n",
        "            print(sorted_student_data, file=output_file)\n",
        "\n",
        "        # Calculate student's grade\n",
        "        first_class = np.count_nonzero(sorted_student_data['Grade'] == 'First')\n",
        "        second_class = np.count_nonzero(sorted_student_data['Grade'] == 'Second')\n",
        "        third_class = np.count_nonzero(sorted_student_data['Grade'] == 'Third')\n",
        "        fail = np.count_nonzero(sorted_student_data['Grade'] == 'Fail')\n",
        "\n",
        "        # Get registration numbers of students who failed\n",
        "        failed_students = sorted_student_data[sorted_student_data['Grade'] == 'Fail']['Registration_Number']\n",
        "\n",
        "        # Output grades of overall students\n",
        "        print(f\"Number of First Class students: {first_class}\")\n",
        "        print(f\"Number of Second Class students: {second_class}\")\n",
        "        print(f\"Number of Third Class students: {third_class}\")\n",
        "        print(f\"Number of Failures: {fail}\")\n",
        "        print(f\"Registration numbers of students who failed: {failed_students}\")\n",
        "\n",
        "except FileNotFoundError:\n",
        "    print(\"File not found. Please provide a valid file name.\")"
      ]
    },
    {
      "cell_type": "code",
      "source": [
        "def create_student_file(file_name):\n",
        "    student_list = [\n",
        "        (\"Mike Sanderson\", \"2111111\", \"CSEE\"),\n",
        "        (\"John Smith\", \"2222222\", \"ECE\"),\n",
        "        (\"Emily Johnson\", \"2333333\", \"CSEE\"),\n",
        "        (\"Jessica Brown\", \"2444444\", \"ME\"),\n",
        "    ]\n",
        "\n",
        "\n",
        "    try:\n",
        "        with open(file_name, 'w') as file:\n",
        "            for student in student_list:\n",
        "                line = ','.join(student) + '\\n'\n",
        "                file.write(line)\n",
        "        print(f\"File '{file_name}' created successfully.\")\n",
        "\n",
        "    except IOError:\n",
        "        print(\"Error creating the file.\")\n",
        "\n",
        "# Example usage\n",
        "create_student_file(\"students.txt\")"
      ],
      "metadata": {
        "colab": {
          "base_uri": "https://localhost:8080/"
        },
        "id": "tOQ664bh9Pgd",
        "outputId": "726ce3e9-dc18-433e-acff-bc907ce57c98"
      },
      "execution_count": 2,
      "outputs": [
        {
          "output_type": "stream",
          "name": "stdout",
          "text": [
            "File 'students.txt' created successfully.\n"
          ]
        }
      ]
    }
  ]
}